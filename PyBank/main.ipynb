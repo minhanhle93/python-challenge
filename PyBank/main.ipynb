{
 "cells": [
  {
   "cell_type": "code",
   "execution_count": 1,
   "id": "bceff2b2-6c0b-4607-8cb6-13330e6d3ea0",
   "metadata": {},
   "outputs": [],
   "source": [
    "import pandas as pd\n",
    "from pathlib import Path"
   ]
  },
  {
   "cell_type": "code",
   "execution_count": 2,
   "id": "36dec911-a91d-4e89-a3ab-855452e4695f",
   "metadata": {},
   "outputs": [],
   "source": [
    "csv_path = Path(\"budget_data.csv\")\n",
    "csv_data = pd.read_csv(csv_path)"
   ]
  },
  {
   "cell_type": "code",
   "execution_count": 19,
   "id": "032ad050-f688-4c32-81f3-0ea346790c1a",
   "metadata": {},
   "outputs": [
    {
     "data": {
      "text/plain": [
       "(86, 2)"
      ]
     },
     "execution_count": 19,
     "metadata": {},
     "output_type": "execute_result"
    }
   ],
   "source": [
    "csv_data.shape"
   ]
  },
  {
   "cell_type": "code",
   "execution_count": 11,
   "id": "58eec13a-3f4b-499b-9ce7-161390fff4bb",
   "metadata": {},
   "outputs": [],
   "source": [
    "total_months = csv_data.shape[0]"
   ]
  },
  {
   "cell_type": "code",
   "execution_count": 5,
   "id": "18d599c2-5892-4310-bbe0-6a81d7c2f6d7",
   "metadata": {},
   "outputs": [
    {
     "data": {
      "text/html": [
       "<div>\n",
       "<style scoped>\n",
       "    .dataframe tbody tr th:only-of-type {\n",
       "        vertical-align: middle;\n",
       "    }\n",
       "\n",
       "    .dataframe tbody tr th {\n",
       "        vertical-align: top;\n",
       "    }\n",
       "\n",
       "    .dataframe thead th {\n",
       "        text-align: right;\n",
       "    }\n",
       "</style>\n",
       "<table border=\"1\" class=\"dataframe\">\n",
       "  <thead>\n",
       "    <tr style=\"text-align: right;\">\n",
       "      <th></th>\n",
       "      <th>Date</th>\n",
       "      <th>Profit/Losses</th>\n",
       "    </tr>\n",
       "  </thead>\n",
       "  <tbody>\n",
       "    <tr>\n",
       "      <th>0</th>\n",
       "      <td>Jan-2010</td>\n",
       "      <td>867884</td>\n",
       "    </tr>\n",
       "    <tr>\n",
       "      <th>1</th>\n",
       "      <td>Feb-2010</td>\n",
       "      <td>984655</td>\n",
       "    </tr>\n",
       "    <tr>\n",
       "      <th>2</th>\n",
       "      <td>Mar-2010</td>\n",
       "      <td>322013</td>\n",
       "    </tr>\n",
       "    <tr>\n",
       "      <th>3</th>\n",
       "      <td>Apr-2010</td>\n",
       "      <td>-69417</td>\n",
       "    </tr>\n",
       "    <tr>\n",
       "      <th>4</th>\n",
       "      <td>May-2010</td>\n",
       "      <td>310503</td>\n",
       "    </tr>\n",
       "  </tbody>\n",
       "</table>\n",
       "</div>"
      ],
      "text/plain": [
       "       Date  Profit/Losses\n",
       "0  Jan-2010         867884\n",
       "1  Feb-2010         984655\n",
       "2  Mar-2010         322013\n",
       "3  Apr-2010         -69417\n",
       "4  May-2010         310503"
      ]
     },
     "execution_count": 5,
     "metadata": {},
     "output_type": "execute_result"
    }
   ],
   "source": [
    "csv_data.head()"
   ]
  },
  {
   "cell_type": "code",
   "execution_count": 31,
   "id": "b303ddf3-1a77-4713-b1b2-a22e184fdb18",
   "metadata": {},
   "outputs": [
    {
     "data": {
      "text/plain": [
       "38382578"
      ]
     },
     "execution_count": 31,
     "metadata": {},
     "output_type": "execute_result"
    }
   ],
   "source": [
    "net_total = f\"${csv_data['Profit/Losses'].sum()}\""
   ]
  },
  {
   "cell_type": "code",
   "execution_count": 53,
   "id": "64118d4d-155a-4c81-97c2-36408ced9ec3",
   "metadata": {},
   "outputs": [],
   "source": [
    "average_of_changes = csv_data['Profit/Losses'].mean()\n",
    "average_of_changes = round(average_of_changes, 2)"
   ]
  },
  {
   "cell_type": "code",
   "execution_count": 55,
   "id": "d44eb69c-f996-4a84-89eb-b5f345218919",
   "metadata": {},
   "outputs": [],
   "source": [
    "Profits = []\n",
    "Losses = []\n",
    "for number in csv_data['Profit/Losses']:\n",
    "    if number > 0:\n",
    "        Profits.append(number)\n",
    "    elif number < 0:\n",
    "        Losses.append(number)\n",
    "greatest_profit_increase = max(Profits) - min(Profits)\n",
    "highest_month = 0\n",
    "greatest_loss_decrease = max(Losses) - min(Losses)\n",
    "lowest_month = 0"
   ]
  },
  {
   "cell_type": "code",
   "execution_count": 56,
   "id": "0b4a512d-a83f-49c5-9ad5-7b12615ddb15",
   "metadata": {},
   "outputs": [],
   "source": [
    "for index, row in csv_data.iterrows():\n",
    "    if row['Profit/Losses'] == max(Profits):\n",
    "        highest_month = row['Date']\n",
    "    if row['Profit/Losses'] == min(Losses):\n",
    "        lowest_month = row['Date']"
   ]
  },
  {
   "cell_type": "code",
   "execution_count": 76,
   "id": "58691517-ad53-4f66-9dd2-b3f735ee2c03",
   "metadata": {},
   "outputs": [],
   "source": [
    "with open('financial_report.txt', 'w') as file:\n",
    "    file.write(f\"Financial Analysis\")\n",
    "    file.write('\\n'+f\"--------------------------\")\n",
    "    file.write('\\n'f\"Total Month: {total_months}\")\n",
    "    file.write('\\n'f\"Total: {net_total}\")\n",
    "    file.write('\\n'f\"Average Change: ${average_of_changes}\")\n",
    "    file.write('\\n'f\"Greatest Increase in Profits: {highest_month} (${greatest_profit_increase})\")\n",
    "    file.write('\\n'f\"Greatest Decrease in Profits: {lowest_month} (${greatest_loss_decrease})\")\n",
    "file.close()\n",
    "    \n"
   ]
  },
  {
   "cell_type": "code",
   "execution_count": null,
   "id": "cfe4352a-379e-4bd5-b4df-24e4647616f0",
   "metadata": {},
   "outputs": [],
   "source": []
  }
 ],
 "metadata": {
  "kernelspec": {
   "display_name": "Python 3 (ipykernel)",
   "language": "python",
   "name": "python3"
  },
  "language_info": {
   "codemirror_mode": {
    "name": "ipython",
    "version": 3
   },
   "file_extension": ".py",
   "mimetype": "text/x-python",
   "name": "python",
   "nbconvert_exporter": "python",
   "pygments_lexer": "ipython3",
   "version": "3.9.13"
  }
 },
 "nbformat": 4,
 "nbformat_minor": 5
}
