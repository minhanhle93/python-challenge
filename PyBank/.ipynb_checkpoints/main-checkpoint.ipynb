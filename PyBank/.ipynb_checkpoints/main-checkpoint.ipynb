{
 "cells": [
  {
   "cell_type": "code",
   "execution_count": 27,
   "id": "bceff2b2-6c0b-4607-8cb6-13330e6d3ea0",
   "metadata": {},
   "outputs": [],
   "source": [
    "import pandas as pd\n",
    "from pathlib import Path\n",
    "\n",
    "# Read the CSV file into Pandas dataframe\n",
    "csv_path = Path(\"budget_data.csv\")\n",
    "csv_data = pd.read_csv(csv_path)\n",
    "\n",
    "# Calculate the total number of months\n",
    "csv_data.shape\n",
    "total_months = csv_data.shape[0]\n",
    "\n",
    "# Calculate the net total amount of Profit/Losses\n",
    "net_total = f\"${csv_data['Profit/Losses'].sum()}\"\n",
    "\n",
    "# Calculate the average of changes in Profit/Losses\n",
    "csv_data[\"change\"] = csv_data['Profit/Losses'].diff()\n",
    "average_of_changes = csv_data[\"change\"].mean()\n",
    "\n",
    "# Calculate the greatest increase in profits (date and amount)\n",
    "# First, Profits is isolated into a list, then, the difference between the lowest and highest Profit is calculated\n",
    "# The same is done with Losses\n",
    "Profits = []\n",
    "Losses = []\n",
    "for number in csv_data['Profit/Losses']:\n",
    "    if number > 0:\n",
    "        Profits.append(number)\n",
    "    elif number < 0:\n",
    "        Losses.append(number)\n",
    "greatest_profit_increase = max(Profits) - min(Profits)\n",
    "greatest_loss_decrease = max(Losses) - min(Losses)\n",
    "\n",
    "# Date of highest Profit and greatest Loss\n",
    "highest_month = 0\n",
    "lowest_month = 0\n",
    "for index, row in csv_data.iterrows():\n",
    "    if row['Profit/Losses'] == max(Profits):\n",
    "        highest_month = row['Date']\n",
    "    if row['Profit/Losses'] == min(Losses):\n",
    "        lowest_month = row['Date']\n",
    "        \n",
    "# Print out the analysis result and export to a text file\n",
    "with open('financial_report.txt', 'w') as file:\n",
    "    file.write(f\"Financial Analysis\")\n",
    "    file.write('\\n'f\"--------------------------\")\n",
    "    file.write('\\n'f\"Total Month: {total_months}\")\n",
    "    file.write('\\n'f\"Total: {net_total}\")\n",
    "    file.write('\\n'f\"Average Change: ${average_of_changes}\")\n",
    "    file.write('\\n'f\"Greatest Increase in Profits: {highest_month} (${greatest_profit_increase})\")\n",
    "    file.write('\\n'f\"Greatest Decrease in Profits: {lowest_month} (${greatest_loss_decrease})\")\n",
    "file.close()"
   ]
  },
  {
   "cell_type": "code",
   "execution_count": 26,
   "id": "58691517-ad53-4f66-9dd2-b3f735ee2c03",
   "metadata": {},
   "outputs": [],
   "source": []
  },
  {
   "cell_type": "code",
   "execution_count": null,
   "id": "f9855195-8692-4dd1-888e-55699f2229cd",
   "metadata": {},
   "outputs": [],
   "source": []
  }
 ],
 "metadata": {
  "kernelspec": {
   "display_name": "Python 3 (ipykernel)",
   "language": "python",
   "name": "python3"
  },
  "language_info": {
   "codemirror_mode": {
    "name": "ipython",
    "version": 3
   },
   "file_extension": ".py",
   "mimetype": "text/x-python",
   "name": "python",
   "nbconvert_exporter": "python",
   "pygments_lexer": "ipython3",
   "version": "3.9.13"
  }
 },
 "nbformat": 4,
 "nbformat_minor": 5
}
